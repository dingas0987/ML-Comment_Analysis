{
 "cells": [
  {
   "cell_type": "code",
   "execution_count": 1,
   "id": "02a57129",
   "metadata": {},
   "outputs": [
    {
     "name": "stderr",
     "output_type": "stream",
     "text": [
      "[nltk_data] Downloading package punkt to\n",
      "[nltk_data]     C:\\Users\\ahmed.baameur\\AppData\\Roaming\\nltk_data...\n",
      "[nltk_data]   Package punkt is already up-to-date!\n",
      "[nltk_data] Downloading package stopwords to\n",
      "[nltk_data]     C:\\Users\\ahmed.baameur\\AppData\\Roaming\\nltk_data...\n",
      "[nltk_data]   Package stopwords is already up-to-date!\n"
     ]
    }
   ],
   "source": [
    "from useful_functions import *"
   ]
  },
  {
   "cell_type": "code",
   "execution_count": 2,
   "id": "224920ad",
   "metadata": {
    "collapsed": true
   },
   "outputs": [
    {
     "data": {
      "text/html": [
       "<div>\n",
       "<style scoped>\n",
       "    .dataframe tbody tr th:only-of-type {\n",
       "        vertical-align: middle;\n",
       "    }\n",
       "\n",
       "    .dataframe tbody tr th {\n",
       "        vertical-align: top;\n",
       "    }\n",
       "\n",
       "    .dataframe thead th {\n",
       "        text-align: right;\n",
       "    }\n",
       "</style>\n",
       "<table border=\"1\" class=\"dataframe\">\n",
       "  <thead>\n",
       "    <tr style=\"text-align: right;\">\n",
       "      <th></th>\n",
       "      <th>body</th>\n",
       "      <th>comment</th>\n",
       "      <th>clean</th>\n",
       "    </tr>\n",
       "  </thead>\n",
       "  <tbody>\n",
       "    <tr>\n",
       "      <th>0</th>\n",
       "      <td>protected boolean acquireLock(final TEnviron...</td>\n",
       "      <td>/**\\n   * The user should override this method...</td>\n",
       "      <td>\\n     the user should override this method  ...</td>\n",
       "    </tr>\n",
       "    <tr>\n",
       "      <th>1</th>\n",
       "      <td>protected void releaseLock(final TEnvironmen...</td>\n",
       "      <td>/**\\n   * The user should override this method...</td>\n",
       "      <td>\\n     the user should override this method  ...</td>\n",
       "    </tr>\n",
       "    <tr>\n",
       "      <th>2</th>\n",
       "      <td>protected void beforeReplay(final TEnvironme...</td>\n",
       "      <td>/**\\n   * Called when the procedure is loaded ...</td>\n",
       "      <td>\\n     called when the procedure is loaded fo...</td>\n",
       "    </tr>\n",
       "    <tr>\n",
       "      <th>3</th>\n",
       "      <td>protected void completionCleanup(final TEnvi...</td>\n",
       "      <td>/**\\n   * Called when the procedure is marked ...</td>\n",
       "      <td>\\n     called when the procedure is marked as...</td>\n",
       "    </tr>\n",
       "    <tr>\n",
       "      <th>4</th>\n",
       "      <td>protected boolean isYieldAfterExecutionStep(...</td>\n",
       "      <td>/**\\n   * By default, the executor will try ro...</td>\n",
       "      <td>\\n     by default  the executor will try ro r...</td>\n",
       "    </tr>\n",
       "    <tr>\n",
       "      <th>...</th>\n",
       "      <td>...</td>\n",
       "      <td>...</td>\n",
       "      <td>...</td>\n",
       "    </tr>\n",
       "    <tr>\n",
       "      <th>2936480</th>\n",
       "      <td>public void delete(Long id) {\\n        log...</td>\n",
       "      <td>/**\\n     *  Delete the  job by id.\\n     *\\n ...</td>\n",
       "      <td>\\n        delete the  job by id \\n      \\n   ...</td>\n",
       "    </tr>\n",
       "    <tr>\n",
       "      <th>2936481</th>\n",
       "      <td>public Proposal save(Proposal proposal) {\\...</td>\n",
       "      <td>/**\\n     * Save a proposal.\\n     *\\n     * @...</td>\n",
       "      <td>\\n       save a proposal \\n      \\n       @pa...</td>\n",
       "    </tr>\n",
       "    <tr>\n",
       "      <th>2936482</th>\n",
       "      <td>public void delete(Long id) {\\n        log...</td>\n",
       "      <td>/**\\n     *  Delete the  proposal by id.\\n    ...</td>\n",
       "      <td>\\n        delete the  proposal by id \\n      ...</td>\n",
       "    </tr>\n",
       "    <tr>\n",
       "      <th>2936483</th>\n",
       "      <td>public Skill save(Skill skill) {\\n        ...</td>\n",
       "      <td>/**\\n     * Save a skill.\\n     *\\n     * @par...</td>\n",
       "      <td>\\n       save a skill \\n      \\n       @param...</td>\n",
       "    </tr>\n",
       "    <tr>\n",
       "      <th>2936484</th>\n",
       "      <td>public void delete(Long id) {\\n        log...</td>\n",
       "      <td>/**\\n     *  Delete the  skill by id.\\n     *\\...</td>\n",
       "      <td>\\n        delete the  skill by id \\n      \\n ...</td>\n",
       "    </tr>\n",
       "  </tbody>\n",
       "</table>\n",
       "<p>2936485 rows × 3 columns</p>\n",
       "</div>"
      ],
      "text/plain": [
       "                                                      body  \\\n",
       "0          protected boolean acquireLock(final TEnviron...   \n",
       "1          protected void releaseLock(final TEnvironmen...   \n",
       "2          protected void beforeReplay(final TEnvironme...   \n",
       "3          protected void completionCleanup(final TEnvi...   \n",
       "4          protected boolean isYieldAfterExecutionStep(...   \n",
       "...                                                    ...   \n",
       "2936480      public void delete(Long id) {\\n        log...   \n",
       "2936481      public Proposal save(Proposal proposal) {\\...   \n",
       "2936482      public void delete(Long id) {\\n        log...   \n",
       "2936483      public Skill save(Skill skill) {\\n        ...   \n",
       "2936484      public void delete(Long id) {\\n        log...   \n",
       "\n",
       "                                                   comment  \\\n",
       "0        /**\\n   * The user should override this method...   \n",
       "1        /**\\n   * The user should override this method...   \n",
       "2        /**\\n   * Called when the procedure is loaded ...   \n",
       "3        /**\\n   * Called when the procedure is marked ...   \n",
       "4        /**\\n   * By default, the executor will try ro...   \n",
       "...                                                    ...   \n",
       "2936480  /**\\n     *  Delete the  job by id.\\n     *\\n ...   \n",
       "2936481  /**\\n     * Save a proposal.\\n     *\\n     * @...   \n",
       "2936482  /**\\n     *  Delete the  proposal by id.\\n    ...   \n",
       "2936483  /**\\n     * Save a skill.\\n     *\\n     * @par...   \n",
       "2936484  /**\\n     *  Delete the  skill by id.\\n     *\\...   \n",
       "\n",
       "                                                     clean  \n",
       "0         \\n     the user should override this method  ...  \n",
       "1         \\n     the user should override this method  ...  \n",
       "2         \\n     called when the procedure is loaded fo...  \n",
       "3         \\n     called when the procedure is marked as...  \n",
       "4         \\n     by default  the executor will try ro r...  \n",
       "...                                                    ...  \n",
       "2936480   \\n        delete the  job by id \\n      \\n   ...  \n",
       "2936481   \\n       save a proposal \\n      \\n       @pa...  \n",
       "2936482   \\n        delete the  proposal by id \\n      ...  \n",
       "2936483   \\n       save a skill \\n      \\n       @param...  \n",
       "2936484   \\n        delete the  skill by id \\n      \\n ...  \n",
       "\n",
       "[2936485 rows x 3 columns]"
      ]
     },
     "execution_count": 2,
     "metadata": {},
     "output_type": "execute_result"
    }
   ],
   "source": [
    "df = df_from_json(\"comment_code_data2.json\")\n",
    "\n",
    "clean_comments(df)"
   ]
  },
  {
   "cell_type": "code",
   "execution_count": 3,
   "id": "43b253a1",
   "metadata": {
    "collapsed": true
   },
   "outputs": [
    {
     "data": {
      "text/html": [
       "<div>\n",
       "<style scoped>\n",
       "    .dataframe tbody tr th:only-of-type {\n",
       "        vertical-align: middle;\n",
       "    }\n",
       "\n",
       "    .dataframe tbody tr th {\n",
       "        vertical-align: top;\n",
       "    }\n",
       "\n",
       "    .dataframe thead th {\n",
       "        text-align: right;\n",
       "    }\n",
       "</style>\n",
       "<table border=\"1\" class=\"dataframe\">\n",
       "  <thead>\n",
       "    <tr style=\"text-align: right;\">\n",
       "      <th></th>\n",
       "      <th>body</th>\n",
       "      <th>comment</th>\n",
       "      <th>clean</th>\n",
       "      <th>keywords</th>\n",
       "    </tr>\n",
       "  </thead>\n",
       "  <tbody>\n",
       "    <tr>\n",
       "      <th>0</th>\n",
       "      <td>protected boolean acquireLock(final TEnviron...</td>\n",
       "      <td>/**\\n   * The user should override this method...</td>\n",
       "      <td>\\n     the user should override this method  ...</td>\n",
       "      <td>@return</td>\n",
       "    </tr>\n",
       "    <tr>\n",
       "      <th>1</th>\n",
       "      <td>protected void releaseLock(final TEnvironmen...</td>\n",
       "      <td>/**\\n   * The user should override this method...</td>\n",
       "      <td>\\n     the user should override this method  ...</td>\n",
       "      <td></td>\n",
       "    </tr>\n",
       "    <tr>\n",
       "      <th>2</th>\n",
       "      <td>protected void beforeReplay(final TEnvironme...</td>\n",
       "      <td>/**\\n   * Called when the procedure is loaded ...</td>\n",
       "      <td>\\n     called when the procedure is loaded fo...</td>\n",
       "      <td></td>\n",
       "    </tr>\n",
       "    <tr>\n",
       "      <th>3</th>\n",
       "      <td>protected void completionCleanup(final TEnvi...</td>\n",
       "      <td>/**\\n   * Called when the procedure is marked ...</td>\n",
       "      <td>\\n     called when the procedure is marked as...</td>\n",
       "      <td></td>\n",
       "    </tr>\n",
       "    <tr>\n",
       "      <th>4</th>\n",
       "      <td>protected boolean isYieldAfterExecutionStep(...</td>\n",
       "      <td>/**\\n   * By default, the executor will try ro...</td>\n",
       "      <td>\\n     by default  the executor will try ro r...</td>\n",
       "      <td>@param @return</td>\n",
       "    </tr>\n",
       "    <tr>\n",
       "      <th>...</th>\n",
       "      <td>...</td>\n",
       "      <td>...</td>\n",
       "      <td>...</td>\n",
       "      <td>...</td>\n",
       "    </tr>\n",
       "    <tr>\n",
       "      <th>2936480</th>\n",
       "      <td>public void delete(Long id) {\\n        log...</td>\n",
       "      <td>/**\\n     *  Delete the  job by id.\\n     *\\n ...</td>\n",
       "      <td>\\n        delete the  job by id \\n      \\n   ...</td>\n",
       "      <td>@param</td>\n",
       "    </tr>\n",
       "    <tr>\n",
       "      <th>2936481</th>\n",
       "      <td>public Proposal save(Proposal proposal) {\\...</td>\n",
       "      <td>/**\\n     * Save a proposal.\\n     *\\n     * @...</td>\n",
       "      <td>\\n       save a proposal \\n      \\n       @pa...</td>\n",
       "      <td>@param @return</td>\n",
       "    </tr>\n",
       "    <tr>\n",
       "      <th>2936482</th>\n",
       "      <td>public void delete(Long id) {\\n        log...</td>\n",
       "      <td>/**\\n     *  Delete the  proposal by id.\\n    ...</td>\n",
       "      <td>\\n        delete the  proposal by id \\n      ...</td>\n",
       "      <td>@param</td>\n",
       "    </tr>\n",
       "    <tr>\n",
       "      <th>2936483</th>\n",
       "      <td>public Skill save(Skill skill) {\\n        ...</td>\n",
       "      <td>/**\\n     * Save a skill.\\n     *\\n     * @par...</td>\n",
       "      <td>\\n       save a skill \\n      \\n       @param...</td>\n",
       "      <td>@param @return</td>\n",
       "    </tr>\n",
       "    <tr>\n",
       "      <th>2936484</th>\n",
       "      <td>public void delete(Long id) {\\n        log...</td>\n",
       "      <td>/**\\n     *  Delete the  skill by id.\\n     *\\...</td>\n",
       "      <td>\\n        delete the  skill by id \\n      \\n ...</td>\n",
       "      <td>@param</td>\n",
       "    </tr>\n",
       "  </tbody>\n",
       "</table>\n",
       "<p>2936485 rows × 4 columns</p>\n",
       "</div>"
      ],
      "text/plain": [
       "                                                      body  \\\n",
       "0          protected boolean acquireLock(final TEnviron...   \n",
       "1          protected void releaseLock(final TEnvironmen...   \n",
       "2          protected void beforeReplay(final TEnvironme...   \n",
       "3          protected void completionCleanup(final TEnvi...   \n",
       "4          protected boolean isYieldAfterExecutionStep(...   \n",
       "...                                                    ...   \n",
       "2936480      public void delete(Long id) {\\n        log...   \n",
       "2936481      public Proposal save(Proposal proposal) {\\...   \n",
       "2936482      public void delete(Long id) {\\n        log...   \n",
       "2936483      public Skill save(Skill skill) {\\n        ...   \n",
       "2936484      public void delete(Long id) {\\n        log...   \n",
       "\n",
       "                                                   comment  \\\n",
       "0        /**\\n   * The user should override this method...   \n",
       "1        /**\\n   * The user should override this method...   \n",
       "2        /**\\n   * Called when the procedure is loaded ...   \n",
       "3        /**\\n   * Called when the procedure is marked ...   \n",
       "4        /**\\n   * By default, the executor will try ro...   \n",
       "...                                                    ...   \n",
       "2936480  /**\\n     *  Delete the  job by id.\\n     *\\n ...   \n",
       "2936481  /**\\n     * Save a proposal.\\n     *\\n     * @...   \n",
       "2936482  /**\\n     *  Delete the  proposal by id.\\n    ...   \n",
       "2936483  /**\\n     * Save a skill.\\n     *\\n     * @par...   \n",
       "2936484  /**\\n     *  Delete the  skill by id.\\n     *\\...   \n",
       "\n",
       "                                                     clean        keywords  \n",
       "0         \\n     the user should override this method  ...         @return  \n",
       "1         \\n     the user should override this method  ...                  \n",
       "2         \\n     called when the procedure is loaded fo...                  \n",
       "3         \\n     called when the procedure is marked as...                  \n",
       "4         \\n     by default  the executor will try ro r...  @param @return  \n",
       "...                                                    ...             ...  \n",
       "2936480   \\n        delete the  job by id \\n      \\n   ...          @param  \n",
       "2936481   \\n       save a proposal \\n      \\n       @pa...  @param @return  \n",
       "2936482   \\n        delete the  proposal by id \\n      ...          @param  \n",
       "2936483   \\n       save a skill \\n      \\n       @param...  @param @return  \n",
       "2936484   \\n        delete the  skill by id \\n      \\n ...          @param  \n",
       "\n",
       "[2936485 rows x 4 columns]"
      ]
     },
     "execution_count": 3,
     "metadata": {},
     "output_type": "execute_result"
    }
   ],
   "source": [
    "#General list of javadocs content\n",
    "at = [\"@param\", \"@return\", \"@code\", \"@link\", \"@see\", \"@throw\", \"@exception\"]\n",
    "keywords(df,at)"
   ]
  },
  {
   "cell_type": "code",
   "execution_count": 4,
   "id": "af367b55",
   "metadata": {},
   "outputs": [
    {
     "name": "stdout",
     "output_type": "stream",
     "text": [
      "[('@param', 1872666), ('@return', 982198), ('@code', 521168), ('@link', 395101), ('@see', 334294), ('@exception', 118681), ('@throw', 325)]\n"
     ]
    }
   ],
   "source": [
    "count_at_words = Counter(\" \".join(df.keywords).split()).most_common(7)\n",
    "print(count_at_words)"
   ]
  },
  {
   "cell_type": "code",
   "execution_count": 5,
   "id": "200819d3",
   "metadata": {},
   "outputs": [
    {
     "data": {
      "image/png": "[encoded data removed]",
      "text/plain": [
       "<Figure size 1224x360 with 1 Axes>"
      ]
     },
     "metadata": {
      "needs_background": "light"
     },
     "output_type": "display_data"
    }
   ],
   "source": [
    "frequency_plot(count_at_words, \"JavaDoc Indicators\")"
   ]
  },
  {
   "cell_type": "code",
   "execution_count": 6,
   "id": "9a761e45",
   "metadata": {},
   "outputs": [
    {
     "name": "stdout",
     "output_type": "stream",
     "text": [
      "1823883 comment/code pairs contain specified keywords.\n"
     ]
    }
   ],
   "source": [
    "print(f\"{len(df)-(df.keywords == '').sum()} comment/code pairs contain specified keywords.\")"
   ]
  },
  {
   "cell_type": "code",
   "execution_count": 7,
   "id": "8150f0b3",
   "metadata": {},
   "outputs": [
    {
     "name": "stdout",
     "output_type": "stream",
     "text": [
      "@param appears in 63.77% of the comment/code pairs.\n",
      "@return appears in 33.45% of the comment/code pairs.\n",
      "@code appears in 17.75% of the comment/code pairs.\n",
      "@link appears in 13.45% of the comment/code pairs.\n",
      "@see appears in 11.38% of the comment/code pairs.\n",
      "@exception appears in 4.042% of the comment/code pairs.\n",
      "@throw appears in 0.01107% of the comment/code pairs.\n"
     ]
    }
   ],
   "source": [
    "def percentage(part, whole):\n",
    "  return 100 * float(part)/float(whole)\n",
    "\n",
    "for x,y in count_at_words:\n",
    "    print(f\"{x} appears in {percentage(y,len(df)):.4}% of the comment/code pairs.\")"
   ]
  },
  {
   "cell_type": "code",
   "execution_count": 8,
   "id": "5bd3d3f0",
   "metadata": {},
   "outputs": [
    {
     "name": "stdout",
     "output_type": "stream",
     "text": [
      "1823883\n"
     ]
    }
   ],
   "source": [
    "\"\"\"Drop Comment/Code Pairs Without Specified Keywords\"\"\"\n",
    "df.keywords.replace('', np.nan, inplace=True)\n",
    "df.dropna(subset=['keywords'], inplace=True)\n",
    "print(len(df))"
   ]
  }
 ],
 "metadata": {
  "kernelspec": {
   "display_name": "Python 3",
   "language": "python",
   "name": "python3"
  },
  "language_info": {
   "codemirror_mode": {
    "name": "ipython",
    "version": 3
   },
   "file_extension": ".py",
   "mimetype": "text/x-python",
   "name": "python",
   "nbconvert_exporter": "python",
   "pygments_lexer": "ipython3",
   "version": "3.8.8"
  }
 },
 "nbformat": 4,
 "nbformat_minor": 5
}
