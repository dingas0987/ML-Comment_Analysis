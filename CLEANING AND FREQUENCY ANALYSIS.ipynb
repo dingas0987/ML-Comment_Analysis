{
 "cells": [
  {
   "cell_type": "code",
   "execution_count": 1,
   "id": "b6644c77",
   "metadata": {
    "collapsed": true
   },
   "outputs": [
    {
     "name": "stderr",
     "output_type": "stream",
     "text": [
      "[nltk_data] Downloading package punkt to\n",
      "[nltk_data]     C:\\Users\\ahmed.baameur\\AppData\\Roaming\\nltk_data...\n",
      "[nltk_data]   Package punkt is already up-to-date!\n",
      "[nltk_data] Downloading package stopwords to\n",
      "[nltk_data]     C:\\Users\\ahmed.baameur\\AppData\\Roaming\\nltk_data...\n",
      "[nltk_data]   Package stopwords is already up-to-date!\n"
     ]
    }
   ],
   "source": [
    "from useful_functions import *"
   ]
  },
  {
   "cell_type": "code",
   "execution_count": 2,
   "id": "c55ff4f6",
   "metadata": {
    "collapsed": true
   },
   "outputs": [
    {
     "data": {
      "text/html": [
       "<div>\n",
       "<style scoped>\n",
       "    .dataframe tbody tr th:only-of-type {\n",
       "        vertical-align: middle;\n",
       "    }\n",
       "\n",
       "    .dataframe tbody tr th {\n",
       "        vertical-align: top;\n",
       "    }\n",
       "\n",
       "    .dataframe thead th {\n",
       "        text-align: right;\n",
       "    }\n",
       "</style>\n",
       "<table border=\"1\" class=\"dataframe\">\n",
       "  <thead>\n",
       "    <tr style=\"text-align: right;\">\n",
       "      <th></th>\n",
       "      <th>body</th>\n",
       "      <th>comment</th>\n",
       "      <th>clean</th>\n",
       "      <th>no stopwords</th>\n",
       "      <th>keywords</th>\n",
       "    </tr>\n",
       "  </thead>\n",
       "  <tbody>\n",
       "    <tr>\n",
       "      <th>0</th>\n",
       "      <td>protected boolean acquireLock(final TEnviron...</td>\n",
       "      <td>/**\\n   * The user should override this method...</td>\n",
       "      <td>\\n     the user should override this method  ...</td>\n",
       "      <td>user override method try take lock necessary l...</td>\n",
       "      <td>this try if for else if</td>\n",
       "    </tr>\n",
       "    <tr>\n",
       "      <th>1</th>\n",
       "      <td>protected void releaseLock(final TEnvironmen...</td>\n",
       "      <td>/**\\n   * The user should override this method...</td>\n",
       "      <td>\\n     the user should override this method  ...</td>\n",
       "      <td>user override method release lock necessary</td>\n",
       "      <td>this if</td>\n",
       "    </tr>\n",
       "    <tr>\n",
       "      <th>2</th>\n",
       "      <td>protected void beforeReplay(final TEnvironme...</td>\n",
       "      <td>/**\\n   * Called when the procedure is loaded ...</td>\n",
       "      <td>\\n     called when the procedure is loaded fo...</td>\n",
       "      <td>called procedure loaded replay procedure imple...</td>\n",
       "      <td>for this if</td>\n",
       "    </tr>\n",
       "    <tr>\n",
       "      <th>3</th>\n",
       "      <td>protected void completionCleanup(final TEnvi...</td>\n",
       "      <td>/**\\n   * Called when the procedure is marked ...</td>\n",
       "      <td>\\n     called when the procedure is marked as...</td>\n",
       "      <td>called procedure marked completed success roll...</td>\n",
       "      <td>this this</td>\n",
       "    </tr>\n",
       "    <tr>\n",
       "      <th>4</th>\n",
       "      <td>protected boolean isYieldAfterExecutionStep(...</td>\n",
       "      <td>/**\\n   * By default, the executor will try ro...</td>\n",
       "      <td>\\n     by default  the executor will try ro r...</td>\n",
       "      <td>default executor try ro run procedures start f...</td>\n",
       "      <td>default try return return if return</td>\n",
       "    </tr>\n",
       "    <tr>\n",
       "      <th>...</th>\n",
       "      <td>...</td>\n",
       "      <td>...</td>\n",
       "      <td>...</td>\n",
       "      <td>...</td>\n",
       "      <td>...</td>\n",
       "    </tr>\n",
       "    <tr>\n",
       "      <th>2936480</th>\n",
       "      <td>public void delete(Long id) {\\n        log...</td>\n",
       "      <td>/**\\n     *  Delete the  job by id.\\n     *\\n ...</td>\n",
       "      <td>\\n        delete the  job by id \\n      \\n   ...</td>\n",
       "      <td>delete job id @param id id entity</td>\n",
       "      <td></td>\n",
       "    </tr>\n",
       "    <tr>\n",
       "      <th>2936481</th>\n",
       "      <td>public Proposal save(Proposal proposal) {\\...</td>\n",
       "      <td>/**\\n     * Save a proposal.\\n     *\\n     * @...</td>\n",
       "      <td>\\n       save a proposal \\n      \\n       @pa...</td>\n",
       "      <td>save proposal @param proposal entity save @ret...</td>\n",
       "      <td></td>\n",
       "    </tr>\n",
       "    <tr>\n",
       "      <th>2936482</th>\n",
       "      <td>public void delete(Long id) {\\n        log...</td>\n",
       "      <td>/**\\n     *  Delete the  proposal by id.\\n    ...</td>\n",
       "      <td>\\n        delete the  proposal by id \\n      ...</td>\n",
       "      <td>delete proposal id @param id id entity</td>\n",
       "      <td></td>\n",
       "    </tr>\n",
       "    <tr>\n",
       "      <th>2936483</th>\n",
       "      <td>public Skill save(Skill skill) {\\n        ...</td>\n",
       "      <td>/**\\n     * Save a skill.\\n     *\\n     * @par...</td>\n",
       "      <td>\\n       save a skill \\n      \\n       @param...</td>\n",
       "      <td>save skill @param skill entity save @return pe...</td>\n",
       "      <td></td>\n",
       "    </tr>\n",
       "    <tr>\n",
       "      <th>2936484</th>\n",
       "      <td>public void delete(Long id) {\\n        log...</td>\n",
       "      <td>/**\\n     *  Delete the  skill by id.\\n     *\\...</td>\n",
       "      <td>\\n        delete the  skill by id \\n      \\n ...</td>\n",
       "      <td>delete skill id @param id id entity</td>\n",
       "      <td></td>\n",
       "    </tr>\n",
       "  </tbody>\n",
       "</table>\n",
       "<p>2936485 rows × 5 columns</p>\n",
       "</div>"
      ],
      "text/plain": [
       "                                                      body  \\\n",
       "0          protected boolean acquireLock(final TEnviron...   \n",
       "1          protected void releaseLock(final TEnvironmen...   \n",
       "2          protected void beforeReplay(final TEnvironme...   \n",
       "3          protected void completionCleanup(final TEnvi...   \n",
       "4          protected boolean isYieldAfterExecutionStep(...   \n",
       "...                                                    ...   \n",
       "2936480      public void delete(Long id) {\\n        log...   \n",
       "2936481      public Proposal save(Proposal proposal) {\\...   \n",
       "2936482      public void delete(Long id) {\\n        log...   \n",
       "2936483      public Skill save(Skill skill) {\\n        ...   \n",
       "2936484      public void delete(Long id) {\\n        log...   \n",
       "\n",
       "                                                   comment  \\\n",
       "0        /**\\n   * The user should override this method...   \n",
       "1        /**\\n   * The user should override this method...   \n",
       "2        /**\\n   * Called when the procedure is loaded ...   \n",
       "3        /**\\n   * Called when the procedure is marked ...   \n",
       "4        /**\\n   * By default, the executor will try ro...   \n",
       "...                                                    ...   \n",
       "2936480  /**\\n     *  Delete the  job by id.\\n     *\\n ...   \n",
       "2936481  /**\\n     * Save a proposal.\\n     *\\n     * @...   \n",
       "2936482  /**\\n     *  Delete the  proposal by id.\\n    ...   \n",
       "2936483  /**\\n     * Save a skill.\\n     *\\n     * @par...   \n",
       "2936484  /**\\n     *  Delete the  skill by id.\\n     *\\...   \n",
       "\n",
       "                                                     clean  \\\n",
       "0         \\n     the user should override this method  ...   \n",
       "1         \\n     the user should override this method  ...   \n",
       "2         \\n     called when the procedure is loaded fo...   \n",
       "3         \\n     called when the procedure is marked as...   \n",
       "4         \\n     by default  the executor will try ro r...   \n",
       "...                                                    ...   \n",
       "2936480   \\n        delete the  job by id \\n      \\n   ...   \n",
       "2936481   \\n       save a proposal \\n      \\n       @pa...   \n",
       "2936482   \\n        delete the  proposal by id \\n      ...   \n",
       "2936483   \\n       save a skill \\n      \\n       @param...   \n",
       "2936484   \\n        delete the  skill by id \\n      \\n ...   \n",
       "\n",
       "                                              no stopwords  \\\n",
       "0        user override method try take lock necessary l...   \n",
       "1              user override method release lock necessary   \n",
       "2        called procedure loaded replay procedure imple...   \n",
       "3        called procedure marked completed success roll...   \n",
       "4        default executor try ro run procedures start f...   \n",
       "...                                                    ...   \n",
       "2936480                  delete job id @param id id entity   \n",
       "2936481  save proposal @param proposal entity save @ret...   \n",
       "2936482             delete proposal id @param id id entity   \n",
       "2936483  save skill @param skill entity save @return pe...   \n",
       "2936484                delete skill id @param id id entity   \n",
       "\n",
       "                                    keywords  \n",
       "0                    this try if for else if  \n",
       "1                                    this if  \n",
       "2                                for this if  \n",
       "3                                  this this  \n",
       "4        default try return return if return  \n",
       "...                                      ...  \n",
       "2936480                                       \n",
       "2936481                                       \n",
       "2936482                                       \n",
       "2936483                                       \n",
       "2936484                                       \n",
       "\n",
       "[2936485 rows x 5 columns]"
      ]
     },
     "execution_count": 2,
     "metadata": {},
     "output_type": "execute_result"
    }
   ],
   "source": [
    "\"\"\"About 3 Minutes to Run\"\"\"\n",
    "\n",
    "df = df_from_json(\"comment_code_data2.json\")\n",
    "\n",
    "clean_comments(df)\n",
    "\n",
    "stop = set(stopwords.words('english'))\n",
    "\n",
    "rmv_stpwds_ret_str(df, stop)\n",
    "\n",
    "#General list of java keywords\n",
    "key = \"abstract continue for new switch assert default goto package synchronized boolean do if private this break double implements protected throw byte else import public throws case enum instanceof return transient catch extends  int short try char final interface static void class finally long strictfp volatile const float native super while\"\n",
    "key = key.split()\n",
    "\n",
    "keywords(df, key)"
   ]
  },
  {
   "cell_type": "code",
   "execution_count": 3,
   "id": "e5323929",
   "metadata": {
    "scrolled": true
   },
   "outputs": [],
   "source": [
    "count_comwords = Counter(\" \".join(df.clean).split()).most_common(20)"
   ]
  },
  {
   "cell_type": "code",
   "execution_count": 4,
   "id": "daab6571",
   "metadata": {},
   "outputs": [],
   "source": [
    "count_nostpwds = Counter(\" \".join(df[\"no stopwords\"]).split()).most_common(20)"
   ]
  },
  {
   "cell_type": "code",
   "execution_count": 5,
   "id": "fac968d2",
   "metadata": {},
   "outputs": [],
   "source": [
    "count_key = Counter(\" \".join(df.keywords).split()).most_common(20)"
   ]
  },
  {
   "cell_type": "code",
   "execution_count": 6,
   "id": "47b5225f",
   "metadata": {},
   "outputs": [
    {
     "data": {
      "image/png": "[encoded data removed]",
      "text/plain": [
       "<Figure size 1080x360 with 1 Axes>"
      ]
     },
     "metadata": {
      "needs_background": "light"
     },
     "output_type": "display_data"
    }
   ],
   "source": [
    "frequency_plot(count_comwords,\"All Words\")"
   ]
  },
  {
   "cell_type": "code",
   "execution_count": 7,
   "id": "6633af43",
   "metadata": {},
   "outputs": [
    {
     "data": {
      "image/png": "[encoded data removed]",
      "text/plain": [
       "<Figure size 1080x360 with 1 Axes>"
      ]
     },
     "metadata": {
      "needs_background": "light"
     },
     "output_type": "display_data"
    }
   ],
   "source": [
    "frequency_plot(count_nostpwds,\"No Stopwords\")"
   ]
  },
  {
   "cell_type": "code",
   "execution_count": 8,
   "id": "b00c399c",
   "metadata": {},
   "outputs": [
    {
     "data": {
      "image/png": "[encoded data removed]",
      "text/plain": [
       "<Figure size 1080x360 with 1 Axes>"
      ]
     },
     "metadata": {
      "needs_background": "light"
     },
     "output_type": "display_data"
    }
   ],
   "source": [
    "frequency_plot(count_key,\"Keywords\")"
   ]
  }
 ],
 "metadata": {
  "kernelspec": {
   "display_name": "Python 3",
   "language": "python",
   "name": "python3"
  },
  "language_info": {
   "codemirror_mode": {
    "name": "ipython",
    "version": 3
   },
   "file_extension": ".py",
   "mimetype": "text/x-python",
   "name": "python",
   "nbconvert_exporter": "python",
   "pygments_lexer": "ipython3",
   "version": "3.8.8"
  }
 },
 "nbformat": 4,
 "nbformat_minor": 5
}
