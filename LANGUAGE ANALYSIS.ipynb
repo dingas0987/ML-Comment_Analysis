{
 "cells": [
  {
   "cell_type": "code",
   "execution_count": 1,
   "id": "bda6806d",
   "metadata": {
    "scrolled": true
   },
   "outputs": [
    {
     "name": "stderr",
     "output_type": "stream",
     "text": [
      "[nltk_data] Downloading package punkt to\n",
      "[nltk_data]     C:\\Users\\ahmed.baameur\\AppData\\Roaming\\nltk_data...\n",
      "[nltk_data]   Package punkt is already up-to-date!\n",
      "[nltk_data] Downloading package stopwords to\n",
      "[nltk_data]     C:\\Users\\ahmed.baameur\\AppData\\Roaming\\nltk_data...\n",
      "[nltk_data]   Package stopwords is already up-to-date!\n"
     ]
    }
   ],
   "source": [
    "from useful_functions import *"
   ]
  },
  {
   "cell_type": "code",
   "execution_count": 2,
   "id": "1f2966f5",
   "metadata": {},
   "outputs": [],
   "source": [
    "df = pd.read_pickle(\"comment_code_data2_with_language.pkl\")"
   ]
  },
  {
   "cell_type": "code",
   "execution_count": 3,
   "id": "ebc6a69f",
   "metadata": {
    "scrolled": true
   },
   "outputs": [
    {
     "name": "stdout",
     "output_type": "stream",
     "text": [
      "  Language    Count Percentage\n",
      "0       en  2554109      86.98\n",
      "1  unknown    50903      1.733\n",
      "2       fr    46210      1.574\n",
      "3       nl    39735      1.353\n",
      "4       ro    33814      1.152\n",
      "5       ca    31551      1.074\n",
      "6       pt    24112     0.8211\n",
      "7       de    23032     0.7843\n",
      "8       da    20998     0.7151\n",
      "9       it    17851     0.6079\n"
     ]
    }
   ],
   "source": [
    "\"\"\"Language Summary Table\"\"\"\n",
    "def percentage(part, whole):\n",
    "  return 100 * float(part)/float(whole)\n",
    "\n",
    "com_lang = Counter(\" \".join(df.language).split()).most_common(10)\n",
    "\n",
    "com_lang = [l + (f'{percentage(l[1], len(df)):.4}',) for l in com_lang]\n",
    "\n",
    "lang_df = pd.DataFrame(com_lang, columns = [\"Language\", \"Count\", \"Percentage\"])\n",
    "\n",
    "print(lang_df)"
   ]
  },
  {
   "cell_type": "code",
   "execution_count": 4,
   "id": "71deb0ec",
   "metadata": {},
   "outputs": [
    {
     "name": "stdout",
     "output_type": "stream",
     "text": [
      "2936485\n",
      "2696861\n"
     ]
    }
   ],
   "source": [
    "\"\"\"Create New Dataframe with Only English\"\"\"\n",
    "df['language'] = df['language'].str.replace('[^(en)]', '', regex=True)\n",
    "df.language.replace('', np.nan, inplace=True)\n",
    "df_english = df.dropna(subset=['language'])\n",
    "print(len(df))\n",
    "print(len(df_english))"
   ]
  },
  {
   "cell_type": "code",
   "execution_count": 5,
   "id": "caf62f74",
   "metadata": {},
   "outputs": [
    {
     "data": {
      "text/plain": [
       "'How the Column was Produced'"
      ]
     },
     "execution_count": 5,
     "metadata": {},
     "output_type": "execute_result"
    }
   ],
   "source": [
    "\"\"\"\n",
    "How the Language Column was Produced\n",
    "Took like 12 Hours, Langdetect library is extremely slow\n",
    "\"\"\"\n",
    "# df = df_from_json('comment_code_data2.json')\n",
    "# clean_comments(df)\n",
    "# add_lang_col(df)\n",
    "# df.to_pickle(\"comment_code_data2_with_language.pkl\")"
   ]
  }
 ],
 "metadata": {
  "kernelspec": {
   "display_name": "Python 3",
   "language": "python",
   "name": "python3"
  },
  "language_info": {
   "codemirror_mode": {
    "name": "ipython",
    "version": 3
   },
   "file_extension": ".py",
   "mimetype": "text/x-python",
   "name": "python",
   "nbconvert_exporter": "python",
   "pygments_lexer": "ipython3",
   "version": "3.8.8"
  }
 },
 "nbformat": 4,
 "nbformat_minor": 5
}
