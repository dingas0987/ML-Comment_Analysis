{
 "cells": [
  {
   "cell_type": "code",
   "execution_count": 1,
   "id": "d7bfdccf",
   "metadata": {
    "scrolled": false
   },
   "outputs": [
    {
     "name": "stderr",
     "output_type": "stream",
     "text": [
      "[nltk_data] Downloading package punkt to\n",
      "[nltk_data]     C:\\Users\\ahmed.baameur\\AppData\\Roaming\\nltk_data...\n",
      "[nltk_data]   Package punkt is already up-to-date!\n",
      "[nltk_data] Downloading package stopwords to\n",
      "[nltk_data]     C:\\Users\\ahmed.baameur\\AppData\\Roaming\\nltk_data...\n",
      "[nltk_data]   Package stopwords is already up-to-date!\n"
     ]
    }
   ],
   "source": [
    "from useful_functions import *"
   ]
  },
  {
   "cell_type": "code",
   "execution_count": 2,
   "id": "6a92b325",
   "metadata": {},
   "outputs": [],
   "source": [
    "df = df_from_json(\"comment_code_data2.json\")"
   ]
  },
  {
   "cell_type": "code",
   "execution_count": 3,
   "id": "46a2815f",
   "metadata": {},
   "outputs": [],
   "source": [
    "df = clean_comments(df)"
   ]
  },
  {
   "cell_type": "code",
   "execution_count": 4,
   "id": "6e989078",
   "metadata": {
    "scrolled": true
   },
   "outputs": [],
   "source": [
    "df = add_score_cols(df)"
   ]
  },
  {
   "cell_type": "code",
   "execution_count": 32,
   "id": "b541d73a",
   "metadata": {},
   "outputs": [
    {
     "name": "stdout",
     "output_type": "stream",
     "text": [
      "--------------------------------------------------------------------------\n",
      "Comment:\n",
      " \n",
      "     by default  the executor will try ro run all the steps of the procedure start to finish \n",
      "     return true to make the executor yield between execution steps to\n",
      "     give other procedures time to run their steps \n",
      "     @param state the state we are going to execute next \n",
      "     @return return true if the executor should yield before the execution of the specified step \n",
      "             defaults to return false \n",
      "    \n",
      "--------------------------------------------------------------------------\n",
      "Code:\n",
      "  protected boolean isYieldBeforeExecuteFromState(TEnvironment env, TState state) {\n",
      "    return false;\n",
      "  }\n",
      "--------------------------------------------------------------------------\n",
      "Code Dict:\n",
      "{'type': 'boolean', 'num_params': 2, 'params': ['env', 'state']}\n",
      "--------------------------------------------------------------------------\n",
      "Comment Dict:\n",
      "{'words_after': [('@param', 9), ('@return', 18)], 'num_@param': 1, 'num_@return': 1, 'head_len': 36, \"total_@'s\": 2}\n",
      "--------------------------------------------------------------------------\n",
      "Score: 9.0\n"
     ]
    }
   ],
   "source": [
    "num = 52\n",
    "print(\"--------------------------------------------------------------------------\\nComment:\")\n",
    "print(df.clean[num])\n",
    "print(\"--------------------------------------------------------------------------\\nCode:\")\n",
    "print(df.body[num])\n",
    "print(\"--------------------------------------------------------------------------\\nCode Dict:\")\n",
    "print(df.code_dict[num])\n",
    "print(\"--------------------------------------------------------------------------\\nComment Dict:\")\n",
    "print(df.comment_dict[num])\n",
    "print(\"--------------------------------------------------------------------------\")\n",
    "print(f'Score: {df.score[num]}')"
   ]
  },
  {
   "cell_type": "code",
   "execution_count": 2,
   "id": "781ceb84",
   "metadata": {},
   "outputs": [
    {
     "name": "stdout",
     "output_type": "stream",
     "text": [
      "\n",
      "    Comment evaluator giving Score 1-10. Considers header length, parameter matches, @return\n",
      "    matches, and length of description after @XXXXX word. \n",
      "    \n",
      "    Header length score is calculated by [(comment head length)/(specified header max score)]*(header length weight),\n",
      "    max score of (header length weight) if (comment head length) exceeds (specified header max score).\n",
      "    \n",
      "    Parameter match score is calculated by [(comment @params's)/(function header parameters)]*(parameter match weight),\n",
      "    the larger value of (comment @params) and (function header parameters) will always be the denominator.\n",
      "    \n",
      "    Return match score is calculated by whether or not the function type should return a value and the presence of an\n",
      "    @return in the comment e.g. function type is void, no @return in comment: true, so 1*(return match weight)\n",
      "    \n",
      "    Length of @XXXX description length calculated by: \n",
      "    [(# of words after @XXXX)/(spec. description max score)]*(description length weight),\n",
      "    max score of (description length weight) if (# words after @XXXX length) \n",
      "    exceeds (specified description max score).\n",
      "    \n",
      "    Exception is present to avoid incorrectly formatted functions with a \"format error\" string in place of code attribute\n",
      "    dictionary.\n",
      "    \n",
      "    arg com: comment attribute dictionary\n",
      "    \n",
      "    arg code: code attribute dictionary\n",
      "    \n",
      "    arg head_weight: weight of header consideration, default=3\n",
      "    \n",
      "    arg param_match_weight: weight of matching param count, default=2\n",
      "    \n",
      "    arg return_match_weight: weight of return match, default=2\n",
      "    \n",
      "    arg len_desc_weight: weight of @XXXX description length, default=3\n",
      "    \n",
      "    arg head_max: integer to calculate max value of comment header length, default=25\n",
      "    \n",
      "    arg desc_max: integer to calculate max value of @XXXX description length, default=6\n",
      "    \n",
      "    returns: float representing comment strength 0-10\n",
      "    \n"
     ]
    }
   ],
   "source": [
    "print(comment_eval.__doc__)"
   ]
  },
  {
   "cell_type": "code",
   "execution_count": null,
   "id": "30977184",
   "metadata": {},
   "outputs": [],
   "source": []
  }
 ],
 "metadata": {
  "kernelspec": {
   "display_name": "Python 3",
   "language": "python",
   "name": "python3"
  },
  "language_info": {
   "codemirror_mode": {
    "name": "ipython",
    "version": 3
   },
   "file_extension": ".py",
   "mimetype": "text/x-python",
   "name": "python",
   "nbconvert_exporter": "python",
   "pygments_lexer": "ipython3",
   "version": "3.8.8"
  }
 },
 "nbformat": 4,
 "nbformat_minor": 5
}
